{
 "cells": [
  {
   "cell_type": "markdown",
   "metadata": {},
   "source": [
    "The original code from file.py"
   ]
  },
  {
   "cell_type": "code",
   "execution_count": null,
   "metadata": {},
   "outputs": [],
   "source": [
    "# read a file and print the length of each line and its contents\n",
    "infile = r'E:\\oct2018\\data\\Rio_medals_table.csv'\n",
    "fr = open(infile, 'r')\n",
    "for line in fr:\n",
    "    print (str(len(line)) , \"<>\" , line)\n",
    "\n",
    "fr.close()"
   ]
  },
  {
   "cell_type": "markdown",
   "metadata": {},
   "source": [
    "**Exercise:**  Modify the Reading and Writing to a file example (files.py) to use your local copy of the Rio_medals_table.csv file and count the number of records in it."
   ]
  },
  {
   "cell_type": "code",
   "execution_count": 2,
   "metadata": {},
   "outputs": [
    {
     "name": "stdout",
     "output_type": "stream",
     "text": [
      "Number of lines in file = 88\n"
     ]
    }
   ],
   "source": [
    "infile = r'E:\\oct2018\\data\\Rio_medals_table.csv'\n",
    "fr = open(infile, 'r')\n",
    "\n",
    "counter = 0\n",
    "\n",
    "for line in fr:\n",
    "    counter += 1\n",
    "    \n",
    "print(\"Number of lines in file =\", counter)\n",
    "\n",
    "fr.close()"
   ]
  },
  {
   "cell_type": "markdown",
   "metadata": {},
   "source": [
    "**Exercise:**  Modify the Reading and Writing to a file example (files.py) to use your local copy of the Rio_medals_table.csv file and print the full record to the screen"
   ]
  },
  {
   "cell_type": "code",
   "execution_count": 5,
   "metadata": {},
   "outputs": [
    {
     "name": "stdout",
     "output_type": "stream",
     "text": [
      "Pos,Country,Gold,Silver,Bronze,Total,Total2\n",
      "1,US,46,37,38,121,View medals by sport for United States\n",
      "2,GB,27,23,17,67,View medals by sport for Great Britain & N. Ireland\n",
      "3,CHN,26,18,26,70,View medals by sport for China\n",
      "4,RUS,19,18,19,56,View medals by sport for Russia\n",
      "5,GER,17,10,15,42,View medals by sport for Germany\n",
      "6,JPN,12,8,21,41,View medals by sport for Japan\n",
      "7,FRA,10,18,14,42,View medals by sport for France\n",
      "8,KOR,9,3,9,21,View medals by sport for South Korea\n",
      "9,ITA,8,12,8,28,View medals by sport for Italy\n",
      "10,AUS,8,11,10,29,View medals by sport for Australia\n",
      "11,NED,8,7,4,19,View medals by sport for Netherlands\n",
      "12,HUN,8,3,4,15,View medals by sport for Hungary\n",
      "13,BRZ,7,6,6,19,View medals by sport for Brazil\n",
      "14,SPA,7,4,6,17,View medals by sport for Spain\n",
      "15,KEN,6,6,1,13,View medals by sport for Kenya\n",
      "16,JAM,6,3,2,11,View medals by sport for Jamaica\n",
      "17,CRO,5,3,2,10,View medals by sport for Croatia\n",
      "18,CUB,5,2,4,11,View medals by sport for Cuba\n",
      "19,NZ,4,9,5,18,View medals by sport for New Zealand\n",
      "20,CAN,4,3,15,22,View medals by sport for Canada\n",
      "21,UZB,4,2,7,13,View medals by sport for Uzbekistan\n",
      "22,KAZ,3,5,9,17,View medals by sport for Kazakhstan\n",
      "23,COL,3,2,3,8,View medals by sport for Colombia\n",
      "24,SWI,3,2,2,7,View medals by sport for Switzerland\n",
      "25,IRN,3,1,4,8,View medals by sport for Iran\n",
      "26,GRE,3,1,2,6,View medals by sport for Greece\n",
      "27,ARG,3,1,0,4,View medals by sport for Argentina\n",
      "28,DEN,2,6,7,15,View medals by sport for Denmark\n",
      "29,SWE,2,6,3,11,View medals by sport for Sweden\n",
      "30,SA,2,6,2,10,View medals by sport for South Africa\n",
      "31,UKR,2,5,4,11,View medals by sport for Ukraine\n",
      "32,SER,2,4,2,8,View medals by sport for Serbia\n",
      "33,POL,2,3,6,11,View medals by sport for Poland\n",
      "34,PRK,2,3,2,7,View medals by sport for North Korea\n",
      "35,BEL,2,2,2,6,View medals by sport for Belgium\n",
      "35,THA,2,2,2,6,View medals by sport for Thailand\n",
      "37,SVK,2,2,0,4,View medals by sport for Slovakia\n",
      "38,GEO,2,1,4,7,View medals by sport for Georgia\n",
      "39,AZE,1,7,10,18,View medals by sport for Azerbaijan\n",
      "40,BLR,1,4,4,9,View medals by sport for Belarus\n",
      "41,TUR,1,3,4,8,View medals by sport for Turkey\n",
      "42,ARM,1,3,0,4,View medals by sport for Armenia\n",
      "43,CZE,1,2,7,10,View medals by sport for Czech Republic\n",
      "44,ETH,1,2,5,8,View medals by sport for Ethiopia\n",
      "45,SLO,1,2,1,4,View medals by sport for Slovenia\n",
      "46,IDN,1,2,0,3,View medals by sport for Indonesia\n",
      "47,ROM,1,1,3,5,View medals by sport for Romania\n",
      "48,BHR,1,1,0,2,View medals by sport for Bahrain\n",
      "48,VIE,1,1,0,2,View medals by sport for Vietnam\n",
      "50,TPE,1,0,2,3,View medals by sport for Chinese Taipei\n",
      "51,BAH,1,0,1,2,View medals by sport for Bahamas\n",
      "51,IOA,1,0,1,2,View medals by sport for Independent Olympic Athletes\n",
      "51,CIV,1,0,1,2,View medals by sport for Ivory Coast\n",
      "54,FIJ,1,0,0,1,View medals by sport for Fiji\n",
      "54,JOR,1,0,0,1,View medals by sport for Jordan\n",
      "54,KOS,1,0,0,1,View medals by sport for Kosovo\n",
      "54,PUR,1,0,0,1,View medals by sport for Puerto Rico\n",
      "54,SIN,1,0,0,1,View medals by sport for Singapore\n",
      "54,TJK,1,0,0,1,View medals by sport for Tajikistan\n",
      "60,MAS,0,4,1,5,View medals by sport for Malaysia\n",
      "61,MEX,0,3,2,5,View medals by sport for Mexico\n",
      "62,ALG,0,2,0,2,View medals by sport for Algeria\n",
      "62,IRE,0,2,0,2,View medals by sport for Ireland\n",
      "64,LTU,0,1,3,4,View medals by sport for Lithuania\n",
      "65,BUL,0,1,2,3,View medals by sport for Bulgaria\n",
      "65,VEN,0,1,2,3,View medals by sport for Venezuela\n",
      "67,IND,0,1,1,2,View medals by sport for India\n",
      "67,MGL,0,1,1,2,View medals by sport for Mongolia\n",
      "69,BDI,0,1,0,1,View medals by sport for Burundi\n",
      "69,GRN,0,1,0,1,View medals by sport for Grenada\n",
      "69,NIG,0,1,0,1,View medals by sport for Niger\n",
      "69,PHI,0,1,0,1,View medals by sport for Philippines\n",
      "69,QAT,0,1,0,1,View medals by sport for Qatar\n",
      "74,NOR,0,0,4,4,View medals by sport for Norway\n",
      "75,EGY,0,0,3,3,View medals by sport for Egypt\n",
      "75,TUN,0,0,3,3,View medals by sport for Tunisia\n",
      "77,ISR,0,0,2,2,View medals by sport for Israel\n",
      "78,AUT,0,0,1,1,View medals by sport for Austria\n",
      "78,DOM,0,0,1,1,View medals by sport for Dominican Republic\n",
      "78,EST,0,0,1,1,View medals by sport for Estonia\n",
      "78,FIN,0,0,1,1,View medals by sport for Finland\n",
      "78,MDA,0,0,1,1,View medals by sport for Moldova\n",
      "78,MOR,0,0,1,1,View medals by sport for Morocco\n",
      "78,NGA,0,0,1,1,View medals by sport for Nigeria\n",
      "78,POR,0,0,1,1,View medals by sport for Portugal\n",
      "78,TRI,0,0,1,1,View medals by sport for Trinidad and Tobago\n",
      "78,UAE,0,0,1,1,View medals by sport for United Arab Emirates\n"
     ]
    }
   ],
   "source": [
    "# read a file and print the length of each line and its contents\n",
    "infile = r'E:\\oct2018\\data\\Rio_medals_table.csv'\n",
    "fr = open(infile, 'r')\n",
    "for line in fr:\n",
    "    print (line.strip())\n",
    "\n",
    "fr.close()"
   ]
  },
  {
   "cell_type": "markdown",
   "metadata": {},
   "source": [
    "**Exercise:**  Modify the Reading and Writing to a file example (files.py) to use your local copy of the Rio_medals_table.csv file. Accept a country code from the user and output the contents of the record containing that country code."
   ]
  },
  {
   "cell_type": "code",
   "execution_count": 7,
   "metadata": {},
   "outputs": [],
   "source": [
    "# pretend\n",
    "\n",
    "cc = \"ger\"\n",
    "\n",
    "infile = r'E:\\oct2018\\data\\Rio_medals_table.csv'\n",
    "fr = open(infile, 'r')\n",
    "\n",
    "\n",
    "for line in fr:\n",
    "    linelist = line.split(\",\")\n",
    "    if linelist[1] == cc :\n",
    "        print(line.strip())\n",
    "        \n",
    "fr.close()"
   ]
  },
  {
   "cell_type": "code",
   "execution_count": 8,
   "metadata": {},
   "outputs": [
    {
     "name": "stdout",
     "output_type": "stream",
     "text": [
      "5,GER,17,10,15,42,View medals by sport for Germany\n"
     ]
    }
   ],
   "source": [
    "# Get country code\n",
    "\n",
    "cc = input(\"Give a country code > \")\n",
    "\n",
    "infile = r'E:\\oct2018\\data\\Rio_medals_table.csv'\n",
    "fr = open(infile, 'r')\n",
    "\n",
    "\n",
    "for line in fr:\n",
    "    linelist = line.split(\",\")\n",
    "    if linelist[1].lower().strip() == cc.lower().strip() :\n",
    "        print(line.strip())\n",
    "        \n",
    "fr.close()"
   ]
  },
  {
   "cell_type": "code",
   "execution_count": 10,
   "metadata": {},
   "outputs": [
    {
     "name": "stdout",
     "output_type": "stream",
     "text": [
      "Country_code 'frgt' not found in file\n"
     ]
    }
   ],
   "source": [
    "# Get country code\n",
    "\n",
    "cc = input(\"Give a country code > \")\n",
    "not_found_cc = True\n",
    "\n",
    "infile = r'E:\\oct2018\\data\\Rio_medals_table.csv'\n",
    "fr = open(infile, 'r')\n",
    "\n",
    "for line in fr:\n",
    "    linelist = line.split(\",\")\n",
    "    if linelist[1].lower().strip() == cc.lower().strip() :\n",
    "        print(line.strip())\n",
    "        not_found_cc = False\n",
    "\n",
    "if not_found_cc :\n",
    "    print(\"Country_code '\" + cc + \"' not found in file\")\n",
    "        \n",
    "fr.close()"
   ]
  },
  {
   "cell_type": "markdown",
   "metadata": {},
   "source": [
    "**Exercise:**  Modify the Reading and Writing to a file example (files.py) to use your local copy of the Rio_medals_table.csv file. Accept a country code from the user and using the split() function, output the contents of the record containing that country code as a list of items"
   ]
  },
  {
   "cell_type": "code",
   "execution_count": 11,
   "metadata": {},
   "outputs": [
    {
     "name": "stdout",
     "output_type": "stream",
     "text": [
      "['5', 'GER', '17', '10', '15', '42', 'View medals by sport for Germany\\n']\n"
     ]
    }
   ],
   "source": [
    "# Get country code\n",
    "\n",
    "cc = input(\"Give a country code > \")\n",
    "not_found_cc = True\n",
    "\n",
    "infile = r'E:\\oct2018\\data\\Rio_medals_table.csv'\n",
    "fr = open(infile, 'r')\n",
    "\n",
    "for line in fr:\n",
    "    linelist = line.split(\",\")\n",
    "    if linelist[1].lower().strip() == cc.lower().strip() :\n",
    "        print(linelist)\n",
    "        not_found_cc = False\n",
    "\n",
    "if not_found_cc :\n",
    "    print(\"Country_code '\" + cc + \"' not found in file\")\n",
    "        \n",
    "fr.close()"
   ]
  },
  {
   "cell_type": "markdown",
   "metadata": {},
   "source": [
    "**Exercise:**  Modify the Reading and Writing to a file example (files.py) to use your local copy of the Rio_medals_table.csv file. Accept a country code from the user and using the split() function, output the Gold, Silver and Bronze values for the given country code. "
   ]
  },
  {
   "cell_type": "code",
   "execution_count": 12,
   "metadata": {},
   "outputs": [
    {
     "name": "stdout",
     "output_type": "stream",
     "text": [
      "17 10 15\n"
     ]
    }
   ],
   "source": [
    "# Get country code\n",
    "\n",
    "cc = input(\"Give a country code > \")\n",
    "not_found_cc = True\n",
    "\n",
    "infile = r'E:\\oct2018\\data\\Rio_medals_table.csv'\n",
    "fr = open(infile, 'r')\n",
    "\n",
    "for line in fr:\n",
    "    linelist = line.split(\",\")\n",
    "    if linelist[1].lower().strip() == cc.lower().strip() :\n",
    "        print(linelist[2],linelist[3], linelist[4])\n",
    "        not_found_cc = False\n",
    "\n",
    "if not_found_cc :\n",
    "    print(\"Country_code '\" + cc + \"' not found in file\")\n",
    "        \n",
    "fr.close()"
   ]
  },
  {
   "cell_type": "markdown",
   "metadata": {},
   "source": [
    "**Exercise:** Repeat the last exercise, but now accept 2 country codes, record the Gold, silvers and bronzes for each in variables and then when you have finished reading the file, print out the Gold, Silver and Bronze values for each country code"
   ]
  },
  {
   "cell_type": "code",
   "execution_count": 14,
   "metadata": {},
   "outputs": [
    {
     "name": "stdout",
     "output_type": "stream",
     "text": [
      "Country code 'US' got 46 Gold, 37 Silver and 38 Bronze medals.\n",
      "Country code 'GB' got 27 Gold, 23 Silver and 17 Bronze medals.\n"
     ]
    }
   ],
   "source": [
    "# Get country codes\n",
    "\n",
    "cc1 = input(\"Give a country code > \")\n",
    "not_found_cc1 = True\n",
    "\n",
    "cc2 = input(\"Give another country code > \")\n",
    "not_found_cc2 = True\n",
    "\n",
    "infile = r'E:\\oct2018\\data\\Rio_medals_table.csv'\n",
    "fr = open(infile, 'r')\n",
    "\n",
    "for line in fr:\n",
    "    linelist = line.split(\",\")\n",
    "    if linelist[1].lower().strip() == cc1.lower().strip() :\n",
    "        cc1_gold = linelist[2]\n",
    "        cc1_silver = linelist[3]\n",
    "        cc1_bronze = linelist[4]\n",
    "        not_found_cc1 = False\n",
    "    if linelist[1].lower().strip() == cc2.lower().strip() :\n",
    "        cc2_gold = linelist[2]\n",
    "        cc2_silver = linelist[3]\n",
    "        cc2_bronze = linelist[4]\n",
    "        not_found_cc2 = False\n",
    "\n",
    "if not_found_cc1 :\n",
    "    print(\"Country_code '\" + cc1 + \"' not found in file\")\n",
    "else :\n",
    "    print(\"Country code '\"+ cc1 +\"' got \" + cc1_gold + \" Gold, \" + \n",
    "          cc1_silver + \" Silver and \" + cc1_bronze + \" Bronze medals.\")\n",
    "\n",
    "    \n",
    "if not_found_cc2 :\n",
    "    print(\"Country_code '\" + cc2 + \"' not found in file\")\n",
    "else :\n",
    "    print(\"Country code '\"+ cc2 +\"' got \" + cc2_gold + \" Gold, \" + \n",
    "          cc2_silver + \" Silver and \" + cc2_bronze + \" Bronze medals.\")\n",
    "        \n",
    "    \n",
    "    \n",
    "fr.close()"
   ]
  },
  {
   "cell_type": "code",
   "execution_count": 22,
   "metadata": {},
   "outputs": [
    {
     "data": {
      "text/plain": [
       "'\\r\\n'"
      ]
     },
     "execution_count": 22,
     "metadata": {},
     "output_type": "execute_result"
    }
   ],
   "source": [
    "fr.newlines"
   ]
  },
  {
   "cell_type": "code",
   "execution_count": null,
   "metadata": {},
   "outputs": [],
   "source": []
  }
 ],
 "metadata": {
  "kernelspec": {
   "display_name": "Python 3",
   "language": "python",
   "name": "python3"
  },
  "language_info": {
   "codemirror_mode": {
    "name": "ipython",
    "version": 3
   },
   "file_extension": ".py",
   "mimetype": "text/x-python",
   "name": "python",
   "nbconvert_exporter": "python",
   "pygments_lexer": "ipython3",
   "version": "3.6.5"
  }
 },
 "nbformat": 4,
 "nbformat_minor": 2
}
